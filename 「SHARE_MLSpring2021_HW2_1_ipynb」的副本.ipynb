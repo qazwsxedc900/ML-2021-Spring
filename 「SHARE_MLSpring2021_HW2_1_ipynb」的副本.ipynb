{
  "nbformat": 4,
  "nbformat_minor": 0,
  "metadata": {
    "accelerator": "GPU",
    "colab": {
      "provenance": [],
      "gpuType": "T4",
      "include_colab_link": true
    },
    "kernelspec": {
      "display_name": "Python 3",
      "name": "python3"
    }
  },
  "cells": [
    {
      "cell_type": "markdown",
      "metadata": {
        "id": "view-in-github",
        "colab_type": "text"
      },
      "source": [
        "<a href=\"https://colab.research.google.com/github/qazwsxedc900/ML-2021-Spring/blob/main/%E3%80%8CSHARE_MLSpring2021_HW2_1_ipynb%E3%80%8D%E7%9A%84%E5%89%AF%E6%9C%AC.ipynb\" target=\"_parent\"><img src=\"https://colab.research.google.com/assets/colab-badge.svg\" alt=\"Open In Colab\"/></a>"
      ]
    },
    {
      "cell_type": "markdown",
      "metadata": {
        "id": "OYlaRwNu7ojq"
      },
      "source": [
        "# **Homework 2-1 Phoneme Classification**\n",
        "\n",
        "* Slides: https://speech.ee.ntu.edu.tw/~hylee/ml/ml2021-course-data/hw/HW02/HW02.pdf\n",
        "* Video (Chinese): https://youtu.be/PdjXnQbu2zo\n",
        "* Video (English): https://youtu.be/ESRr-VCykBs\n"
      ]
    },
    {
      "cell_type": "markdown",
      "metadata": {
        "id": "emUd7uS7crTz"
      },
      "source": [
        "## The DARPA TIMIT Acoustic-Phonetic Continuous Speech Corpus (TIMIT)\n",
        "The TIMIT corpus of reading speech has been designed to provide speech data for the acquisition of acoustic-phonetic knowledge and for the development and evaluation of automatic speech recognition systems.\n",
        "\n",
        "This homework is a multiclass classification task,\n",
        "we are going to train a deep neural network classifier to predict the phonemes for each frame from the speech corpus TIMIT.\n",
        "\n",
        "link: https://academictorrents.com/details/34e2b78745138186976cbc27939b1b34d18bd5b3"
      ]
    },
    {
      "cell_type": "markdown",
      "metadata": {
        "id": "KVUGfWTo7_Oj"
      },
      "source": [
        "## Download Data\n",
        "Download data from google drive, then unzip it.\n",
        "\n",
        "You should have `timit_11/train_11.npy`, `timit_11/train_label_11.npy`, and `timit_11/test_11.npy` after running this block.<br><br>\n",
        "`timit_11/`\n",
        "- `train_11.npy`: training data<br>\n",
        "- `train_label_11.npy`: training label<br>\n",
        "- `test_11.npy`:  testing data<br><br>\n",
        "\n",
        "**notes: if the google drive link is dead, you can download the data directly from Kaggle and upload it to the workspace**\n",
        "\n",
        "\n"
      ]
    },
    {
      "cell_type": "code",
      "metadata": {
        "colab": {
          "base_uri": "https://localhost:8080/"
        },
        "id": "OzkiMEcC3Foq",
        "outputId": "93014eba-c93c-4cd9-ea26-769dc31d6151"
      },
      "source": [
        "!gdown --id '1HPkcmQmFGu-3OknddKIa5dNDsR05lIQR' --output data.zip\n",
        "!unzip data.zip\n",
        "!ls"
      ],
      "execution_count": 1,
      "outputs": [
        {
          "output_type": "stream",
          "name": "stdout",
          "text": [
            "/usr/local/lib/python3.11/dist-packages/gdown/__main__.py:140: FutureWarning: Option `--id` was deprecated in version 4.3.1 and will be removed in 5.0. You don't need to pass it anymore to use a file ID.\n",
            "  warnings.warn(\n",
            "Downloading...\n",
            "From (original): https://drive.google.com/uc?id=1HPkcmQmFGu-3OknddKIa5dNDsR05lIQR\n",
            "From (redirected): https://drive.google.com/uc?id=1HPkcmQmFGu-3OknddKIa5dNDsR05lIQR&confirm=t&uuid=e1f74f79-6192-4b0f-b888-f90d2837a2df\n",
            "To: /content/data.zip\n",
            "100% 372M/372M [00:03<00:00, 99.9MB/s]\n",
            "Archive:  data.zip\n",
            "   creating: timit_11/\n",
            "  inflating: timit_11/train_11.npy   \n",
            "  inflating: timit_11/test_11.npy    \n",
            "  inflating: timit_11/train_label_11.npy  \n",
            "data.zip  sample_data  timit_11\n"
          ]
        }
      ]
    },
    {
      "cell_type": "markdown",
      "metadata": {
        "id": "_L_4anls8Drv"
      },
      "source": [
        "## Preparing Data\n",
        "Load the training and testing data from the `.npy` file (NumPy array)."
      ]
    },
    {
      "cell_type": "code",
      "metadata": {
        "colab": {
          "base_uri": "https://localhost:8080/"
        },
        "id": "IJjLT8em-y9G",
        "outputId": "ae489151-0044-49ce-936c-0d5f1c2a1651"
      },
      "source": [
        "import numpy as np\n",
        "\n",
        "print('Loading data ...')\n",
        "\n",
        "data_root='./timit_11/'\n",
        "train = np.load(data_root + 'train_11.npy')\n",
        "train_label = np.load(data_root + 'train_label_11.npy')\n",
        "test = np.load(data_root + 'test_11.npy')\n",
        "\n",
        "print('Size of training data: {}'.format(train.shape))\n",
        "print('Size of testing data: {}'.format(test.shape))"
      ],
      "execution_count": 2,
      "outputs": [
        {
          "output_type": "stream",
          "name": "stdout",
          "text": [
            "Loading data ...\n",
            "Size of training data: (1229932, 429)\n",
            "Size of testing data: (451552, 429)\n"
          ]
        }
      ]
    },
    {
      "cell_type": "markdown",
      "metadata": {
        "id": "us5XW_x6udZQ"
      },
      "source": [
        "## Create Dataset"
      ]
    },
    {
      "cell_type": "code",
      "metadata": {
        "id": "Fjf5EcmJtf4e"
      },
      "source": [
        "import torch\n",
        "from torch.utils.data import Dataset\n",
        "\n",
        "class TIMITDataset(Dataset):\n",
        "    def __init__(self, X, y=None):\n",
        "        self.data = torch.from_numpy(X).float()\n",
        "        if y is not None:\n",
        "            #y = y.astype(np.int)\n",
        "            y = y.astype(int)\n",
        "            self.label = torch.LongTensor(y)\n",
        "        else:\n",
        "            self.label = None\n",
        "\n",
        "    def __getitem__(self, idx):\n",
        "        if self.label is not None:\n",
        "            return self.data[idx], self.label[idx]\n",
        "        else:\n",
        "            return self.data[idx]\n",
        "\n",
        "    def __len__(self):\n",
        "        return len(self.data)\n"
      ],
      "execution_count": 3,
      "outputs": []
    },
    {
      "cell_type": "markdown",
      "metadata": {
        "id": "otIC6WhGeh9v"
      },
      "source": [
        "Split the labeled data into a training set and a validation set, you can modify the variable `VAL_RATIO` to change the ratio of validation data."
      ]
    },
    {
      "cell_type": "code",
      "metadata": {
        "colab": {
          "base_uri": "https://localhost:8080/"
        },
        "id": "sYqi_lAuvC59",
        "outputId": "861079ee-fedd-4794-97f9-4ce9b36c7703"
      },
      "source": [
        "VAL_RATIO = 0.2\n",
        "\n",
        "percent = int(train.shape[0] * (1 - VAL_RATIO))\n",
        "train_x, train_y, val_x, val_y = train[:percent], train_label[:percent], train[percent:], train_label[percent:]\n",
        "print('Size of training set: {}'.format(train_x.shape))\n",
        "print('Size of validation set: {}'.format(val_x.shape))"
      ],
      "execution_count": 4,
      "outputs": [
        {
          "output_type": "stream",
          "name": "stdout",
          "text": [
            "Size of training set: (983945, 429)\n",
            "Size of validation set: (245987, 429)\n"
          ]
        }
      ]
    },
    {
      "cell_type": "markdown",
      "metadata": {
        "id": "nbCfclUIgMTX"
      },
      "source": [
        "Create a data loader from the dataset, feel free to tweak the variable `BATCH_SIZE` here."
      ]
    },
    {
      "cell_type": "code",
      "metadata": {
        "id": "RUCbQvqJurYc"
      },
      "source": [
        "BATCH_SIZE = 64\n",
        "\n",
        "from torch.utils.data import DataLoader\n",
        "\n",
        "train_set = TIMITDataset(train_x, train_y)\n",
        "val_set = TIMITDataset(val_x, val_y)\n",
        "train_loader = DataLoader(train_set, batch_size=BATCH_SIZE, shuffle=True) #only shuffle the training data\n",
        "val_loader = DataLoader(val_set, batch_size=BATCH_SIZE, shuffle=False)"
      ],
      "execution_count": 5,
      "outputs": []
    },
    {
      "cell_type": "markdown",
      "metadata": {
        "id": "_SY7X0lUgb50"
      },
      "source": [
        "Cleanup the unneeded variables to save memory.<br>\n",
        "\n",
        "**notes: if you need to use these variables later, then you may remove this block or clean up unneeded variables later<br>the data size is quite huge, so be aware of memory usage in colab**"
      ]
    },
    {
      "cell_type": "code",
      "metadata": {
        "colab": {
          "base_uri": "https://localhost:8080/"
        },
        "id": "y8rzkGraeYeN",
        "outputId": "5f7cd57e-78ff-4563-9c4d-2647c6ddfeab"
      },
      "source": [
        "import gc\n",
        "\n",
        "del train, train_label, train_x, train_y, val_x, val_y\n",
        "gc.collect()"
      ],
      "execution_count": 6,
      "outputs": [
        {
          "output_type": "execute_result",
          "data": {
            "text/plain": [
              "30"
            ]
          },
          "metadata": {},
          "execution_count": 6
        }
      ]
    },
    {
      "cell_type": "markdown",
      "metadata": {
        "id": "IRqKNvNZwe3V"
      },
      "source": [
        "## Create Model"
      ]
    },
    {
      "cell_type": "markdown",
      "metadata": {
        "id": "FYr1ng5fh9pA"
      },
      "source": [
        "Define model architecture, you are encouraged to change and experiment with the model architecture."
      ]
    },
    {
      "cell_type": "code",
      "metadata": {
        "id": "lbZrwT6Ny0XL"
      },
      "source": [
        "import torch\n",
        "import torch.nn as nn\n",
        "\n",
        "class Classifier(nn.Module):\n",
        "    def __init__(self):\n",
        "        super(Classifier, self).__init__()\n",
        "        self.layer1 = nn.Linear(429, 1024)\n",
        "        self.layer2 = nn.Linear(1024, 512)\n",
        "        self.layer3 = nn.Linear(512, 128)\n",
        "        self.out = nn.Linear(128, 39)\n",
        "\n",
        "        self.act_fn = nn.Sigmoid()\n",
        "\n",
        "    def forward(self, x):\n",
        "        x = self.layer1(x)\n",
        "        x = self.act_fn(x)\n",
        "\n",
        "        x = self.layer2(x)\n",
        "        x = self.act_fn(x)\n",
        "\n",
        "        x = self.layer3(x)\n",
        "        x = self.act_fn(x)\n",
        "\n",
        "        x = self.out(x)\n",
        "\n",
        "        return x"
      ],
      "execution_count": 7,
      "outputs": []
    },
    {
      "cell_type": "markdown",
      "metadata": {
        "id": "VRYciXZvPbYh"
      },
      "source": [
        "## Training"
      ]
    },
    {
      "cell_type": "code",
      "metadata": {
        "id": "y114Vmm3Ja6o"
      },
      "source": [
        "#check device\n",
        "def get_device():\n",
        "  return 'cuda' if torch.cuda.is_available() else 'cpu'"
      ],
      "execution_count": 8,
      "outputs": []
    },
    {
      "cell_type": "markdown",
      "metadata": {
        "id": "sEX-yjHjhGuH"
      },
      "source": [
        "Fix random seeds for reproducibility."
      ]
    },
    {
      "cell_type": "code",
      "metadata": {
        "id": "88xPiUnm0tAd"
      },
      "source": [
        "# fix random seed\n",
        "def same_seeds(seed):\n",
        "    torch.manual_seed(seed)\n",
        "    if torch.cuda.is_available():\n",
        "        torch.cuda.manual_seed(seed)\n",
        "        torch.cuda.manual_seed_all(seed)\n",
        "    np.random.seed(seed)\n",
        "    torch.backends.cudnn.benchmark = False\n",
        "    torch.backends.cudnn.deterministic = True"
      ],
      "execution_count": 9,
      "outputs": []
    },
    {
      "cell_type": "markdown",
      "metadata": {
        "id": "KbBcBXkSp6RA"
      },
      "source": [
        "Feel free to change the training parameters here."
      ]
    },
    {
      "cell_type": "code",
      "source": [
        "'''\n",
        "# 安裝 torch_xla 函式庫\n",
        "# 移除特定版本的 wheel 檔案，讓 pip 根據環境自動選擇合適的版本\n",
        "!pip install torch_xla\n",
        "\n",
        "import torch_xla.core.xla_model as xm # 引入 torch_xla\n",
        "\n",
        "# 檢查設備，現在包含對 TPU 的偵測\n",
        "def get_device():\n",
        "  # 使用 torch_xla.core.xla_model.xla_device() 來取得 TPU 設備\n",
        "  return xm.xla_device()\n",
        "\n",
        "device = get_device()\n",
        "print(f'DEVICE: {device}')\n",
        "\n",
        "# 固定隨機種子\n",
        "def same_seeds(seed):\n",
        "    torch.manual_seed(seed)\n",
        "    # 對於 TPU，使用 xm.set_rng_state 設置隨機種子\n",
        "    if device.type == 'xla':\n",
        "        xm.set_rng_state(seed)\n",
        "    elif torch.cuda.is_available():\n",
        "        torch.cuda.manual_seed(seed)\n",
        "        torch.cuda.manual_seed_all(seed)\n",
        "    np.random.seed(seed)\n",
        "    torch.backends.cudnn.benchmark = False\n",
        "    torch.backends.cudnn.deterministic = True\n",
        "\n",
        "# 固定隨機種子以確保可重複性\n",
        "same_seeds(0)\n",
        "\n",
        "# 訓練參數\n",
        "num_epoch = 20               # 訓練的 epoch 數量\n",
        "learning_rate = 0.0001       # 學習率\n",
        "\n",
        "# 儲存模型檢查點的路徑\n",
        "model_path = './model.ckpt'\n",
        "\n",
        "# 建立模型，定義損失函數和優化器\n",
        "model = Classifier().to(device) # 將模型移動到偵測到的設備 (TPU 或 CPU)\n",
        "criterion = nn.CrossEntropyLoss()\n",
        "optimizer = torch.optim.Adam(model.parameters(), lr=learning_rate)\n",
        "'''"
      ],
      "metadata": {
        "colab": {
          "base_uri": "https://localhost:8080/",
          "height": 286
        },
        "id": "IkSIhvOD0oAi",
        "outputId": "b3a8f222-4a02-43e5-f9f1-66f78bce63ce"
      },
      "execution_count": 10,
      "outputs": [
        {
          "output_type": "execute_result",
          "data": {
            "text/plain": [
              "\"\\n# 安裝 torch_xla 函式庫\\n# 移除特定版本的 wheel 檔案，讓 pip 根據環境自動選擇合適的版本\\n!pip install torch_xla\\n\\nimport torch_xla.core.xla_model as xm # 引入 torch_xla\\n\\n# 檢查設備，現在包含對 TPU 的偵測\\ndef get_device():\\n  # 使用 torch_xla.core.xla_model.xla_device() 來取得 TPU 設備\\n  return xm.xla_device()\\n\\ndevice = get_device()\\nprint(f'DEVICE: {device}')\\n\\n# 固定隨機種子\\ndef same_seeds(seed):\\n    torch.manual_seed(seed)\\n    # 對於 TPU，使用 xm.set_rng_state 設置隨機種子\\n    if device.type == 'xla':\\n        xm.set_rng_state(seed)\\n    elif torch.cuda.is_available():\\n        torch.cuda.manual_seed(seed)\\n        torch.cuda.manual_seed_all(seed)\\n    np.random.seed(seed)\\n    torch.backends.cudnn.benchmark = False\\n    torch.backends.cudnn.deterministic = True\\n\\n# 固定隨機種子以確保可重複性\\nsame_seeds(0)\\n\\n# 訓練參數\\nnum_epoch = 20               # 訓練的 epoch 數量\\nlearning_rate = 0.0001       # 學習率\\n\\n# 儲存模型檢查點的路徑\\nmodel_path = './model.ckpt'\\n\\n# 建立模型，定義損失函數和優化器\\nmodel = Classifier().to(device) # 將模型移動到偵測到的設備 (TPU 或 CPU)\\ncriterion = nn.CrossEntropyLoss()\\noptimizer = torch.optim.Adam(model.parameters(), lr=learning_rate)\\n\""
            ],
            "application/vnd.google.colaboratory.intrinsic+json": {
              "type": "string"
            }
          },
          "metadata": {},
          "execution_count": 10
        }
      ]
    },
    {
      "cell_type": "code",
      "source": [
        "'''\n",
        "#start training\n",
        "best_acc = 0.0\n",
        "for epoch in range(num_epoch):\n",
        "    train_acc = 0.0\n",
        "    train_loss = 0.0 # Initialize as float\n",
        "    val_acc = 0.0\n",
        "    val_loss = 0.0 # Initialize as float\n",
        "\n",
        "    # 訓練階段\n",
        "    model.train() # 將模型設定為訓練模式\n",
        "    total_train_loss = 0.0 # 使用單獨的變數來累計純量損失\n",
        "    for i, data in enumerate(train_loader):\n",
        "        inputs, labels = data\n",
        "        inputs, labels = inputs.to(device), labels.to(device) # 將資料移動到設備\n",
        "        optimizer.zero_grad()\n",
        "        outputs = model(inputs)\n",
        "        batch_loss = criterion(outputs, labels)\n",
        "        _, train_pred = torch.max(outputs, 1) # 取得具有最高機率的類別索引\n",
        "        batch_loss.backward()\n",
        "\n",
        "        # 將累積損失和準確率的程式碼移到 xm.optimizer_step 之前\n",
        "        total_train_loss += batch_loss.item()\n",
        "        train_acc += (train_pred.cpu() == labels.cpu()).sum().item()\n",
        "\n",
        "        # 在使用 TPU 時，使用 xm.optimizer_step 來執行優化器的 step\n",
        "        xm.optimizer_step(optimizer)\n",
        "\n",
        "\n",
        "    # 在迴圈結束後計算平均訓練損失\n",
        "    train_loss = total_train_loss / len(train_loader)\n",
        "\n",
        "\n",
        "    # 驗證階段\n",
        "    if len(val_set) > 0:\n",
        "        model.eval() # 將模型設定為評估模式\n",
        "        total_val_loss = 0.0 # 使用單獨的變數來累計純量損失\n",
        "        with torch.no_grad():\n",
        "            for i, data in enumerate(val_loader):\n",
        "                inputs, labels = data\n",
        "                inputs, labels = inputs.to(device), labels.to(device) # 將資料移動到設備\n",
        "                outputs = model(inputs)\n",
        "                batch_loss = criterion(outputs, labels)\n",
        "                _, val_pred = torch.max(outputs, 1)\n",
        "\n",
        "                # 累積純量損失和準確率\n",
        "                total_val_loss += batch_loss.item()\n",
        "                val_acc += (val_pred.cpu() == labels.cpu()).sum().item() # 取得具有最高機率的類別索引\n",
        "\n",
        "\n",
        "            # 在迴圈結束後計算平均驗證損失\n",
        "            val_loss = total_val_loss / len(val_loader)\n",
        "\n",
        "            print('[{:03d}/{:03d}] Train Acc: {:3.6f} Loss: {:3.6f} | Val Acc: {:3.6f} loss: {:3.6f}'.format(\n",
        "                epoch + 1, num_epoch, train_acc/len(train_set), train_loss, val_acc/len(val_set), val_loss\n",
        "            ))\n",
        "\n",
        "            # 如果模型有改進，儲存當前的檢查點\n",
        "            # 使用 TPU 時，建議使用 xm.save 來儲存模型狀態\n",
        "            if val_acc > best_acc:\n",
        "                best_acc = val_acc\n",
        "                # torch.save(model.state_dict(), model_path) # 標準的儲存方式可能可以，但建議使用 xm.save\n",
        "                xm.save(model.state_dict(), model_path)\n",
        "                print('saving model with acc {:.3f}'.format(best_acc/len(val_set)))\n",
        "    else:\n",
        "        print('[{:03d}/{:03d}] Train Acc: {:3.6f} Loss: {:3.6f}'.format(\n",
        "            epoch + 1, num_epoch, train_acc/len(train_set), train_loss\n",
        "        ))\n",
        "\n",
        "# 如果沒有進行驗證，儲存最後一個 epoch 的模型\n",
        "if len(val_set) == 0:\n",
        "    # torch.save(model.state_dict(), model_path) # 標準的儲存方式可能可以，但建議使用 xm.save\n",
        "    xm.save(model.state_dict(), model_path)\n",
        "    print('saving model at last epoch')\n",
        "'''"
      ],
      "metadata": {
        "colab": {
          "base_uri": "https://localhost:8080/",
          "height": 286
        },
        "id": "AUC_6BPR03YX",
        "outputId": "d4ab9fa1-ef9d-4773-c691-4651309d5353"
      },
      "execution_count": 11,
      "outputs": [
        {
          "output_type": "execute_result",
          "data": {
            "text/plain": [
              "\"\\n#start training\\nbest_acc = 0.0\\nfor epoch in range(num_epoch):\\n    train_acc = 0.0\\n    train_loss = 0.0 # Initialize as float\\n    val_acc = 0.0\\n    val_loss = 0.0 # Initialize as float\\n\\n    # 訓練階段\\n    model.train() # 將模型設定為訓練模式\\n    total_train_loss = 0.0 # 使用單獨的變數來累計純量損失\\n    for i, data in enumerate(train_loader):\\n        inputs, labels = data\\n        inputs, labels = inputs.to(device), labels.to(device) # 將資料移動到設備\\n        optimizer.zero_grad()\\n        outputs = model(inputs)\\n        batch_loss = criterion(outputs, labels)\\n        _, train_pred = torch.max(outputs, 1) # 取得具有最高機率的類別索引\\n        batch_loss.backward()\\n\\n        # 將累積損失和準確率的程式碼移到 xm.optimizer_step 之前\\n        total_train_loss += batch_loss.item()\\n        train_acc += (train_pred.cpu() == labels.cpu()).sum().item()\\n\\n        # 在使用 TPU 時，使用 xm.optimizer_step 來執行優化器的 step\\n        xm.optimizer_step(optimizer)\\n\\n\\n    # 在迴圈結束後計算平均訓練損失\\n    train_loss = total_train_loss / len(train_loader)\\n\\n\\n    # 驗證階段\\n    if len(val_set) > 0:\\n        model.eval() # 將模型設定為評估模式\\n        total_val_loss = 0.0 # 使用單獨的變數來累計純量損失\\n        with torch.no_grad():\\n            for i, data in enumerate(val_loader):\\n                inputs, labels = data\\n                inputs, labels = inputs.to(device), labels.to(device) # 將資料移動到設備\\n                outputs = model(inputs)\\n                batch_loss = criterion(outputs, labels)\\n                _, val_pred = torch.max(outputs, 1)\\n\\n                # 累積純量損失和準確率\\n                total_val_loss += batch_loss.item()\\n                val_acc += (val_pred.cpu() == labels.cpu()).sum().item() # 取得具有最高機率的類別索引\\n\\n\\n            # 在迴圈結束後計算平均驗證損失\\n            val_loss = total_val_loss / len(val_loader)\\n\\n            print('[{:03d}/{:03d}] Train Acc: {:3.6f} Loss: {:3.6f} | Val Acc: {:3.6f} loss: {:3.6f}'.format(\\n                epoch + 1, num_epoch, train_acc/len(train_set), train_loss, val_acc/len(val_set), val_loss\\n            ))\\n\\n            # 如果模型有改進，儲存當前的檢查點\\n            # 使用 TPU 時，建議使用 xm.save 來儲存模型狀態\\n            if val_acc > best_acc:\\n                best_acc = val_acc\\n                # torch.save(model.state_dict(), model_path) # 標準的儲存方式可能可以，但建議使用 xm.save\\n                xm.save(model.state_dict(), model_path)\\n                print('saving model with acc {:.3f}'.format(best_acc/len(val_set)))\\n    else:\\n        print('[{:03d}/{:03d}] Train Acc: {:3.6f} Loss: {:3.6f}'.format(\\n            epoch + 1, num_epoch, train_acc/len(train_set), train_loss\\n        ))\\n\\n# 如果沒有進行驗證，儲存最後一個 epoch 的模型\\nif len(val_set) == 0:\\n    # torch.save(model.state_dict(), model_path) # 標準的儲存方式可能可以，但建議使用 xm.save\\n    xm.save(model.state_dict(), model_path)\\n    print('saving model at last epoch')\\n\""
            ],
            "application/vnd.google.colaboratory.intrinsic+json": {
              "type": "string"
            }
          },
          "metadata": {},
          "execution_count": 11
        }
      ]
    },
    {
      "cell_type": "code",
      "metadata": {
        "id": "QTp3ZXg1yO9Y",
        "colab": {
          "base_uri": "https://localhost:8080/"
        },
        "outputId": "2444073e-6362-4a74-e4ea-807f1369ccc3"
      },
      "source": [
        "\n",
        "# fix random seed for reproducibility\n",
        "same_seeds(0)\n",
        "\n",
        "# get device\n",
        "device = get_device()\n",
        "print(f'DEVICE: {device}')\n",
        "\n",
        "# training parameters\n",
        "num_epoch = 20               # number of training epoch\n",
        "learning_rate = 0.0001       # learning rate\n",
        "\n",
        "# the path where checkpoint saved\n",
        "model_path = './model.ckpt'\n",
        "\n",
        "# create model, define a loss function, and optimizer\n",
        "model = Classifier().to(device)\n",
        "criterion = nn.CrossEntropyLoss()\n",
        "optimizer = torch.optim.Adam(model.parameters(), lr=learning_rate)\n"
      ],
      "execution_count": 12,
      "outputs": [
        {
          "output_type": "stream",
          "name": "stdout",
          "text": [
            "DEVICE: cuda\n"
          ]
        }
      ]
    },
    {
      "cell_type": "code",
      "metadata": {
        "id": "CdMWsBs7zzNs",
        "colab": {
          "base_uri": "https://localhost:8080/"
        },
        "outputId": "aed328ce-9982-4f87-e594-215f82456a97"
      },
      "source": [
        "\n",
        "# start training\n",
        "\n",
        "best_acc = 0.0\n",
        "for epoch in range(num_epoch):\n",
        "    train_acc = 0.0\n",
        "    train_loss = 0.0\n",
        "    val_acc = 0.0\n",
        "    val_loss = 0.0\n",
        "\n",
        "    # training\n",
        "    model.train() # set the model to training mode\n",
        "    for i, data in enumerate(train_loader):\n",
        "        inputs, labels = data\n",
        "        inputs, labels = inputs.to(device), labels.to(device)\n",
        "        optimizer.zero_grad()\n",
        "        outputs = model(inputs)\n",
        "        batch_loss = criterion(outputs, labels)\n",
        "        _, train_pred = torch.max(outputs, 1) # get the index of the class with the highest probability\n",
        "        batch_loss.backward()\n",
        "        optimizer.step()\n",
        "\n",
        "        train_acc += (train_pred.cpu() == labels.cpu()).sum().item()\n",
        "        train_loss += batch_loss.item()\n",
        "\n",
        "    # validation\n",
        "    if len(val_set) > 0:\n",
        "        model.eval() # set the model to evaluation mode\n",
        "        with torch.no_grad():\n",
        "            for i, data in enumerate(val_loader):\n",
        "                inputs, labels = data\n",
        "                inputs, labels = inputs.to(device), labels.to(device)\n",
        "                outputs = model(inputs)\n",
        "                batch_loss = criterion(outputs, labels)\n",
        "                _, val_pred = torch.max(outputs, 1)\n",
        "\n",
        "                val_acc += (val_pred.cpu() == labels.cpu()).sum().item() # get the index of the class with the highest probability\n",
        "                val_loss += batch_loss.item()\n",
        "\n",
        "            print('[{:03d}/{:03d}] Train Acc: {:3.6f} Loss: {:3.6f} | Val Acc: {:3.6f} loss: {:3.6f}'.format(\n",
        "                epoch + 1, num_epoch, train_acc/len(train_set), train_loss/len(train_loader), val_acc/len(val_set), val_loss/len(val_loader)\n",
        "            ))\n",
        "\n",
        "            # if the model improves, save a checkpoint at this epoch\n",
        "            if val_acc > best_acc:\n",
        "                best_acc = val_acc\n",
        "                torch.save(model.state_dict(), model_path)\n",
        "                print('saving model with acc {:.3f}'.format(best_acc/len(val_set)))\n",
        "    else:\n",
        "        print('[{:03d}/{:03d}] Train Acc: {:3.6f} Loss: {:3.6f}'.format(\n",
        "            epoch + 1, num_epoch, train_acc/len(train_set), train_loss/len(train_loader)\n",
        "        ))\n",
        "\n",
        "# if not validating, save the last epoch\n",
        "if len(val_set) == 0:\n",
        "    torch.save(model.state_dict(), model_path)\n",
        "    print('saving model at last epoch')\n"
      ],
      "execution_count": 13,
      "outputs": [
        {
          "output_type": "stream",
          "name": "stdout",
          "text": [
            "[001/020] Train Acc: 0.467302 Loss: 1.811661 | Val Acc: 0.567428 loss: 1.433065\n",
            "saving model with acc 0.567\n",
            "[002/020] Train Acc: 0.594383 Loss: 1.330665 | Val Acc: 0.628639 loss: 1.211098\n",
            "saving model with acc 0.629\n",
            "[003/020] Train Acc: 0.644506 Loss: 1.154064 | Val Acc: 0.660421 loss: 1.101215\n",
            "saving model with acc 0.660\n",
            "[004/020] Train Acc: 0.672216 Loss: 1.052246 | Val Acc: 0.676300 loss: 1.038718\n",
            "saving model with acc 0.676\n",
            "[005/020] Train Acc: 0.691347 Loss: 0.983103 | Val Acc: 0.685154 loss: 1.001852\n",
            "saving model with acc 0.685\n",
            "[006/020] Train Acc: 0.705615 Loss: 0.931955 | Val Acc: 0.689301 loss: 0.984177\n",
            "saving model with acc 0.689\n",
            "[007/020] Train Acc: 0.716344 Loss: 0.891687 | Val Acc: 0.694516 loss: 0.964627\n",
            "saving model with acc 0.695\n",
            "[008/020] Train Acc: 0.725881 Loss: 0.857907 | Val Acc: 0.697720 loss: 0.951889\n",
            "saving model with acc 0.698\n",
            "[009/020] Train Acc: 0.733717 Loss: 0.829495 | Val Acc: 0.696687 loss: 0.949866\n",
            "[010/020] Train Acc: 0.741151 Loss: 0.803701 | Val Acc: 0.699374 loss: 0.944832\n",
            "saving model with acc 0.699\n",
            "[011/020] Train Acc: 0.748050 Loss: 0.781106 | Val Acc: 0.697773 loss: 0.946494\n",
            "[012/020] Train Acc: 0.753792 Loss: 0.760380 | Val Acc: 0.702830 loss: 0.938236\n",
            "saving model with acc 0.703\n",
            "[013/020] Train Acc: 0.759404 Loss: 0.741234 | Val Acc: 0.700456 loss: 0.945627\n",
            "[014/020] Train Acc: 0.764572 Loss: 0.723574 | Val Acc: 0.702159 loss: 0.942118\n",
            "[015/020] Train Acc: 0.769470 Loss: 0.707325 | Val Acc: 0.704427 loss: 0.936154\n",
            "saving model with acc 0.704\n",
            "[016/020] Train Acc: 0.773689 Loss: 0.691314 | Val Acc: 0.701736 loss: 0.945713\n",
            "[017/020] Train Acc: 0.778677 Loss: 0.676633 | Val Acc: 0.701586 loss: 0.953081\n",
            "[018/020] Train Acc: 0.783105 Loss: 0.662425 | Val Acc: 0.699663 loss: 0.963290\n",
            "[019/020] Train Acc: 0.786395 Loss: 0.649180 | Val Acc: 0.700078 loss: 0.957681\n",
            "[020/020] Train Acc: 0.790644 Loss: 0.636623 | Val Acc: 0.699732 loss: 0.964269\n"
          ]
        }
      ]
    },
    {
      "cell_type": "markdown",
      "metadata": {
        "id": "1Hi7jTn3PX-m"
      },
      "source": [
        "## Testing"
      ]
    },
    {
      "cell_type": "markdown",
      "metadata": {
        "id": "NfUECMFCn5VG"
      },
      "source": [
        "Create a testing dataset, and load model from the saved checkpoint."
      ]
    },
    {
      "cell_type": "code",
      "metadata": {
        "id": "1PKjtAScPWtr",
        "colab": {
          "base_uri": "https://localhost:8080/"
        },
        "outputId": "b28822c5-2f24-4479-cefa-5325f19ad07f"
      },
      "source": [
        "# create testing dataset\n",
        "test_set = TIMITDataset(test, None)\n",
        "test_loader = DataLoader(test_set, batch_size=BATCH_SIZE, shuffle=False)\n",
        "\n",
        "# create model and load weights from checkpoint\n",
        "model = Classifier().to(device)\n",
        "model.load_state_dict(torch.load(model_path))"
      ],
      "execution_count": 14,
      "outputs": [
        {
          "output_type": "execute_result",
          "data": {
            "text/plain": [
              "<All keys matched successfully>"
            ]
          },
          "metadata": {},
          "execution_count": 14
        }
      ]
    },
    {
      "cell_type": "markdown",
      "metadata": {
        "id": "940TtCCdoYd0"
      },
      "source": [
        "Make prediction."
      ]
    },
    {
      "cell_type": "code",
      "metadata": {
        "id": "84HU5GGjPqR0"
      },
      "source": [
        "predict = []\n",
        "model.eval() # set the model to evaluation mode\n",
        "with torch.no_grad():\n",
        "    for i, data in enumerate(test_loader):\n",
        "        inputs = data\n",
        "        inputs = inputs.to(device)\n",
        "        outputs = model(inputs)\n",
        "        _, test_pred = torch.max(outputs, 1) # get the index of the class with the highest probability\n",
        "\n",
        "        for y in test_pred.cpu().numpy():\n",
        "            predict.append(y)"
      ],
      "execution_count": 15,
      "outputs": []
    },
    {
      "cell_type": "markdown",
      "metadata": {
        "id": "AWDf_C-omElb"
      },
      "source": [
        "Write prediction to a CSV file.\n",
        "\n",
        "After finish running this block, download the file `prediction.csv` from the files section on the left-hand side and submit it to Kaggle."
      ]
    },
    {
      "cell_type": "code",
      "metadata": {
        "id": "GuljYSPHcZir"
      },
      "source": [
        "with open('prediction.csv', 'w') as f:\n",
        "    f.write('Id,Class\\n')\n",
        "    for i, y in enumerate(predict):\n",
        "        f.write('{},{}\\n'.format(i, y))"
      ],
      "execution_count": 16,
      "outputs": []
    },
    {
      "cell_type": "code",
      "source": [],
      "metadata": {
        "id": "JCTad-UVz8zj"
      },
      "execution_count": 16,
      "outputs": []
    }
  ]
}